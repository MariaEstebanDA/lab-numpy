{
 "cells": [
  {
   "cell_type": "markdown",
   "metadata": {},
   "source": [
    "# Intrduction to NumPy\n",
    "\n",
    "\n",
    "#### 1. Import NumPy under the name np."
   ]
  },
  {
   "cell_type": "code",
   "execution_count": 1,
   "metadata": {},
   "outputs": [],
   "source": [
    "# your code here\n",
    "\n",
    "import numpy as np"
   ]
  },
  {
   "cell_type": "markdown",
   "metadata": {},
   "source": [
    "#### 2. Print your NumPy version."
   ]
  },
  {
   "cell_type": "code",
   "execution_count": 7,
   "metadata": {},
   "outputs": [
    {
     "data": {
      "text/plain": [
       "'1.19.2'"
      ]
     },
     "execution_count": 7,
     "metadata": {},
     "output_type": "execute_result"
    }
   ],
   "source": [
    "# your code here\n",
    "\n",
    "np.version.version"
   ]
  },
  {
   "cell_type": "markdown",
   "metadata": {},
   "source": [
    "#### 3. Generate a 2x3x5 3-dimensional array with random values. Assign the array to variable *a*.\n",
    "**Challenge**: there are at least three easy ways that use numpy to generate random arrays. How many ways can you find?"
   ]
  },
  {
   "cell_type": "code",
   "execution_count": 8,
   "metadata": {},
   "outputs": [
    {
     "name": "stdout",
     "output_type": "stream",
     "text": [
      "[[[0.51862546 0.27926604 0.62538208 0.4139255  0.1070457 ]\n",
      "  [0.82024308 0.95908448 0.4414443  0.62354977 0.65628659]\n",
      "  [0.509923   0.03366431 0.94790128 0.34204357 0.00836994]]\n",
      "\n",
      " [[0.80378364 0.21952224 0.72424512 0.75155051 0.05172862]\n",
      "  [0.39655013 0.2698024  0.59949828 0.03592973 0.51790246]\n",
      "  [0.99095602 0.84629838 0.55037965 0.57244364 0.63918969]]]\n"
     ]
    }
   ],
   "source": [
    "# Method 1\n",
    "\n",
    "a = np.random.random((2,3,5))\n"
   ]
  },
  {
   "cell_type": "code",
   "execution_count": null,
   "metadata": {},
   "outputs": [],
   "source": [
    "# Method 2"
   ]
  },
  {
   "cell_type": "code",
   "execution_count": null,
   "metadata": {},
   "outputs": [],
   "source": [
    "# Method 3"
   ]
  },
  {
   "cell_type": "markdown",
   "metadata": {},
   "source": [
    "#### 4. Print *a*.\n"
   ]
  },
  {
   "cell_type": "code",
   "execution_count": null,
   "metadata": {},
   "outputs": [],
   "source": [
    "# your code here\n",
    "\n",
    "print(a)\n"
   ]
  },
  {
   "cell_type": "markdown",
   "metadata": {},
   "source": [
    "#### 5. Create a 5x2x3 3-dimensional array with all values equaling 1. Assign the array to variable *b*."
   ]
  },
  {
   "cell_type": "code",
   "execution_count": 9,
   "metadata": {},
   "outputs": [
    {
     "name": "stdout",
     "output_type": "stream",
     "text": [
      "[[[1 1 1]\n",
      "  [1 1 1]]\n",
      "\n",
      " [[1 1 1]\n",
      "  [1 1 1]]\n",
      "\n",
      " [[1 1 1]\n",
      "  [1 1 1]]\n",
      "\n",
      " [[1 1 1]\n",
      "  [1 1 1]]\n",
      "\n",
      " [[1 1 1]\n",
      "  [1 1 1]]]\n"
     ]
    }
   ],
   "source": [
    "# your code here\n",
    "\n",
    "b = np.full((5, 2, 3), 1)"
   ]
  },
  {
   "cell_type": "markdown",
   "metadata": {},
   "source": [
    "#### 6. Print *b*.\n"
   ]
  },
  {
   "cell_type": "code",
   "execution_count": null,
   "metadata": {},
   "outputs": [],
   "source": [
    "# your code here\n",
    "\n",
    "print (b)"
   ]
  },
  {
   "cell_type": "markdown",
   "metadata": {},
   "source": [
    "#### 7. Do *a* and *b* have the same size? How do you prove that in Python code?"
   ]
  },
  {
   "cell_type": "code",
   "execution_count": 12,
   "metadata": {},
   "outputs": [
    {
     "name": "stdout",
     "output_type": "stream",
     "text": [
      "True\n"
     ]
    }
   ],
   "source": [
    "# your code here\n",
    "\n",
    "print (a.size == b.size)"
   ]
  },
  {
   "cell_type": "markdown",
   "metadata": {},
   "source": [
    "#### 8. Are you able to add *a* and *b*? Why or why not?\n"
   ]
  },
  {
   "cell_type": "code",
   "execution_count": 14,
   "metadata": {},
   "outputs": [
    {
     "ename": "ValueError",
     "evalue": "operands could not be broadcast together with shapes (2,3,5) (5,2,3) ",
     "output_type": "error",
     "traceback": [
      "\u001b[0;31m---------------------------------------------------------------------------\u001b[0m",
      "\u001b[0;31mValueError\u001b[0m                                Traceback (most recent call last)",
      "\u001b[0;32m<ipython-input-14-69048afca386>\u001b[0m in \u001b[0;36m<module>\u001b[0;34m\u001b[0m\n\u001b[1;32m      1\u001b[0m \u001b[0;31m# your answer here\u001b[0m\u001b[0;34m\u001b[0m\u001b[0;34m\u001b[0m\u001b[0;34m\u001b[0m\u001b[0m\n\u001b[1;32m      2\u001b[0m \u001b[0;34m\u001b[0m\u001b[0m\n\u001b[0;32m----> 3\u001b[0;31m \u001b[0mc\u001b[0m \u001b[0;34m=\u001b[0m \u001b[0mnp\u001b[0m\u001b[0;34m.\u001b[0m\u001b[0madd\u001b[0m\u001b[0;34m(\u001b[0m\u001b[0ma\u001b[0m\u001b[0;34m,\u001b[0m\u001b[0mb\u001b[0m\u001b[0;34m)\u001b[0m\u001b[0;34m\u001b[0m\u001b[0;34m\u001b[0m\u001b[0m\n\u001b[0m\u001b[1;32m      4\u001b[0m \u001b[0;34m\u001b[0m\u001b[0m\n\u001b[1;32m      5\u001b[0m \u001b[0mprint\u001b[0m \u001b[0;34m(\u001b[0m\u001b[0ma\u001b[0m\u001b[0;34m.\u001b[0m\u001b[0mshape\u001b[0m \u001b[0;34m==\u001b[0m \u001b[0mb\u001b[0m\u001b[0;34m.\u001b[0m\u001b[0mshape\u001b[0m\u001b[0;34m)\u001b[0m\u001b[0;34m\u001b[0m\u001b[0;34m\u001b[0m\u001b[0m\n",
      "\u001b[0;31mValueError\u001b[0m: operands could not be broadcast together with shapes (2,3,5) (5,2,3) "
     ]
    }
   ],
   "source": [
    "# your answer here\n",
    "\n",
    "c = np.add(a,b)\n",
    "\n",
    "print (a.shape == b.shape)\n",
    "\n",
    "# connot add a and b since the shape is not the same"
   ]
  },
  {
   "cell_type": "markdown",
   "metadata": {},
   "source": [
    "#### 9. Transpose *b* so that it has the same structure of *a* (i.e. become a 2x3x5 array). Assign the transposed array to variable *c*."
   ]
  },
  {
   "cell_type": "code",
   "execution_count": 29,
   "metadata": {},
   "outputs": [
    {
     "name": "stdout",
     "output_type": "stream",
     "text": [
      "(2, 3, 5)\n"
     ]
    }
   ],
   "source": [
    "# your code here\n",
    "\n",
    "c = np.transpose(b, axes=(1,2,0))\n",
    "print(np.shape(c))\n"
   ]
  },
  {
   "cell_type": "markdown",
   "metadata": {},
   "source": [
    "#### 10. Try to add *a* and *c*. Now it should work. Assign the sum to variable *d*. But why does it work now?"
   ]
  },
  {
   "cell_type": "code",
   "execution_count": 32,
   "metadata": {},
   "outputs": [
    {
     "name": "stdout",
     "output_type": "stream",
     "text": [
      "True\n"
     ]
    },
    {
     "data": {
      "text/plain": [
       "array([[[1.51862546, 1.27926604, 1.62538208, 1.4139255 , 1.1070457 ],\n",
       "        [1.82024308, 1.95908448, 1.4414443 , 1.62354977, 1.65628659],\n",
       "        [1.509923  , 1.03366431, 1.94790128, 1.34204357, 1.00836994]],\n",
       "\n",
       "       [[1.80378364, 1.21952224, 1.72424512, 1.75155051, 1.05172862],\n",
       "        [1.39655013, 1.2698024 , 1.59949828, 1.03592973, 1.51790246],\n",
       "        [1.99095602, 1.84629838, 1.55037965, 1.57244364, 1.63918969]]])"
      ]
     },
     "execution_count": 32,
     "metadata": {},
     "output_type": "execute_result"
    }
   ],
   "source": [
    "# your code/answer here\n",
    "\n",
    "print (a.shape == c.shape)\n",
    "\n",
    "d = np.add(a,c)\n"
   ]
  },
  {
   "cell_type": "markdown",
   "metadata": {},
   "source": [
    "#### 11. Print *a* and *d*. Notice the difference and relation of the two array in terms of the values? Explain."
   ]
  },
  {
   "cell_type": "code",
   "execution_count": 34,
   "metadata": {},
   "outputs": [
    {
     "name": "stdout",
     "output_type": "stream",
     "text": [
      "[[[0.51862546 0.27926604 0.62538208 0.4139255  0.1070457 ]\n",
      "  [0.82024308 0.95908448 0.4414443  0.62354977 0.65628659]\n",
      "  [0.509923   0.03366431 0.94790128 0.34204357 0.00836994]]\n",
      "\n",
      " [[0.80378364 0.21952224 0.72424512 0.75155051 0.05172862]\n",
      "  [0.39655013 0.2698024  0.59949828 0.03592973 0.51790246]\n",
      "  [0.99095602 0.84629838 0.55037965 0.57244364 0.63918969]]]\n",
      "[[[1.51862546 1.27926604 1.62538208 1.4139255  1.1070457 ]\n",
      "  [1.82024308 1.95908448 1.4414443  1.62354977 1.65628659]\n",
      "  [1.509923   1.03366431 1.94790128 1.34204357 1.00836994]]\n",
      "\n",
      " [[1.80378364 1.21952224 1.72424512 1.75155051 1.05172862]\n",
      "  [1.39655013 1.2698024  1.59949828 1.03592973 1.51790246]\n",
      "  [1.99095602 1.84629838 1.55037965 1.57244364 1.63918969]]]\n"
     ]
    }
   ],
   "source": [
    "# your code/answer here\n",
    "\n",
    "print (a)\n",
    "\n",
    "print (d)\n",
    "\n",
    "# values of d are values of a + 1 "
   ]
  },
  {
   "cell_type": "markdown",
   "metadata": {},
   "source": [
    "#### 12. Multiply *a* and *c*. Assign the result to *e*."
   ]
  },
  {
   "cell_type": "code",
   "execution_count": 35,
   "metadata": {},
   "outputs": [
    {
     "data": {
      "text/plain": [
       "array([[[0.51862546, 0.27926604, 0.62538208, 0.4139255 , 0.1070457 ],\n",
       "        [0.82024308, 0.95908448, 0.4414443 , 0.62354977, 0.65628659],\n",
       "        [0.509923  , 0.03366431, 0.94790128, 0.34204357, 0.00836994]],\n",
       "\n",
       "       [[0.80378364, 0.21952224, 0.72424512, 0.75155051, 0.05172862],\n",
       "        [0.39655013, 0.2698024 , 0.59949828, 0.03592973, 0.51790246],\n",
       "        [0.99095602, 0.84629838, 0.55037965, 0.57244364, 0.63918969]]])"
      ]
     },
     "execution_count": 35,
     "metadata": {},
     "output_type": "execute_result"
    }
   ],
   "source": [
    "# your code here\n",
    "\n",
    "e = a * c\n",
    "\n",
    "e"
   ]
  },
  {
   "cell_type": "markdown",
   "metadata": {},
   "source": [
    "#### 13. Does *e* equal to *a*? Why or why not?\n"
   ]
  },
  {
   "cell_type": "code",
   "execution_count": 36,
   "metadata": {},
   "outputs": [
    {
     "name": "stdout",
     "output_type": "stream",
     "text": [
      "[[[ True  True  True  True  True]\n",
      "  [ True  True  True  True  True]\n",
      "  [ True  True  True  True  True]]\n",
      "\n",
      " [[ True  True  True  True  True]\n",
      "  [ True  True  True  True  True]\n",
      "  [ True  True  True  True  True]]]\n"
     ]
    }
   ],
   "source": [
    "# your code/answer here\n",
    "\n",
    "print (a==e)\n",
    "\n",
    "# they are equal as the values of c are 1."
   ]
  },
  {
   "cell_type": "markdown",
   "metadata": {},
   "source": [
    "#### 14. Identify the max, min, and mean values in *d*. Assign those values to variables *d_max*, *d_min* and *d_mean*."
   ]
  },
  {
   "cell_type": "code",
   "execution_count": 41,
   "metadata": {},
   "outputs": [
    {
     "name": "stdout",
     "output_type": "stream",
     "text": [
      "1.9909560162114541\n",
      "1.0083699431736628\n",
      "1.5085511871829915\n"
     ]
    }
   ],
   "source": [
    "# your code here\n",
    "\n",
    "d_max = d.max()\n",
    "\n",
    "print (d_max)\n",
    "\n",
    "d_min = d.min()\n",
    "\n",
    "print (d_min)\n",
    "\n",
    "d_mean = d.mean()\n",
    "\n",
    "print (d_mean)"
   ]
  },
  {
   "cell_type": "markdown",
   "metadata": {},
   "source": [
    "#### 15. Now we want to label the values in *d*. First create an empty array *f* with the same shape (i.e. 2x3x5) as *d* using `np.empty`.\n"
   ]
  },
  {
   "cell_type": "code",
   "execution_count": 46,
   "metadata": {},
   "outputs": [
    {
     "data": {
      "text/plain": [
       "array([[[0.51862546, 0.27926604, 0.62538208, 0.4139255 , 0.1070457 ],\n",
       "        [0.82024308, 0.95908448, 0.4414443 , 0.62354977, 0.65628659],\n",
       "        [0.509923  , 0.03366431, 0.94790128, 0.34204357, 0.00836994]],\n",
       "\n",
       "       [[0.80378364, 0.21952224, 0.72424512, 0.75155051, 0.05172862],\n",
       "        [0.39655013, 0.2698024 , 0.59949828, 0.03592973, 0.51790246],\n",
       "        [0.99095602, 0.84629838, 0.55037965, 0.57244364, 0.63918969]]])"
      ]
     },
     "execution_count": 46,
     "metadata": {},
     "output_type": "execute_result"
    }
   ],
   "source": [
    "# your code here\n",
    "\n",
    "f = np.empty ([2,3,5])\n",
    "\n",
    "f"
   ]
  },
  {
   "cell_type": "markdown",
   "metadata": {},
   "source": [
    "#### 16. Populate the values in *f*. \n",
    "\n",
    "For each value in *d*, if it's larger than *d_min* but smaller than *d_mean*, assign 25 to the corresponding value in *f*. If a value in *d* is larger than *d_mean* but smaller than *d_max*, assign 75 to the corresponding value in *f*. If a value equals to *d_mean*, assign 50 to the corresponding value in *f*. Assign 0 to the corresponding value(s) in *f* for *d_min* in *d*. Assign 100 to the corresponding value(s) in *f* for *d_max* in *d*. In the end, f should have only the following values: 0, 25, 50, 75, and 100.\n",
    "\n",
    "**Note**: you don't have to use Numpy in this question."
   ]
  },
  {
   "cell_type": "code",
   "execution_count": 69,
   "metadata": {},
   "outputs": [
    {
     "name": "stdout",
     "output_type": "stream",
     "text": [
      "[[[1.51862546 1.27926604 1.62538208 1.4139255  1.1070457 ]\n",
      "  [1.82024308 1.95908448 1.4414443  1.62354977 1.65628659]\n",
      "  [1.509923   1.03366431 1.94790128 1.34204357 1.00836994]]\n",
      "\n",
      " [[1.80378364 1.21952224 1.72424512 1.75155051 1.05172862]\n",
      "  [1.39655013 1.2698024  1.59949828 1.03592973 1.51790246]\n",
      "  [1.99095602 1.84629838 1.55037965 1.57244364 1.63918969]]]\n",
      "[1.51862546 1.27926604 1.62538208 1.4139255  1.1070457  1.82024308\n",
      " 1.95908448 1.4414443  1.62354977 1.65628659 1.509923   1.03366431\n",
      " 1.94790128 1.34204357 1.00836994 1.80378364 1.21952224 1.72424512\n",
      " 1.75155051 1.05172862 1.39655013 1.2698024  1.59949828 1.03592973\n",
      " 1.51790246 1.99095602 1.84629838 1.55037965 1.57244364 1.63918969]\n",
      "[]\n"
     ]
    }
   ],
   "source": [
    "# your code here\n",
    "\n",
    "print (d)\n",
    "\n",
    "d_flatten = d.flatten()\n",
    "\n",
    "print (d_flatten)\n",
    "\n",
    "f = []\n",
    "\n",
    "print (f)\n",
    "    \n",
    "for value in d_flatten:\n",
    "    if value > d_min and value < d_mean:\n",
    "        f.append (25)\n",
    "    elif value > d_mean and value < d_max:\n",
    "        f.append (75)\n",
    "    elif value == d_mean:\n",
    "        f.append (50)\n",
    "    elif value == d_min:\n",
    "        f.append (0)\n",
    "    elif value == d_max:\n",
    "        f.append (100)\n"
   ]
  },
  {
   "cell_type": "code",
   "execution_count": 58,
   "metadata": {},
   "outputs": [
    {
     "name": "stdout",
     "output_type": "stream",
     "text": [
      "[[1.51862546 1.27926604 1.62538208 1.4139255  1.1070457 ]\n",
      " [1.82024308 1.95908448 1.4414443  1.62354977 1.65628659]\n",
      " [1.509923   1.03366431 1.94790128 1.34204357 1.00836994]]\n",
      "[[1.80378364 1.21952224 1.72424512 1.75155051 1.05172862]\n",
      " [1.39655013 1.2698024  1.59949828 1.03592973 1.51790246]\n",
      " [1.99095602 1.84629838 1.55037965 1.57244364 1.63918969]]\n"
     ]
    }
   ],
   "source": [
    "for value in d:\n",
    "    print (value)"
   ]
  },
  {
   "cell_type": "markdown",
   "metadata": {},
   "source": [
    "#### 17. Print *d* and *f*. Do you have your expected *f*?\n",
    "For instance, if your *d* is:\n",
    "```python\n",
    "[[[1.85836099, 1.67064465, 1.62576044, 1.40243961, 1.88454931],\n",
    "[1.75354326, 1.69403643, 1.36729252, 1.61415071, 1.12104981],\n",
    "[1.72201435, 1.1862918 , 1.87078449, 1.7726778 , 1.88180042]],\n",
    "[[1.44747908, 1.31673383, 1.02000951, 1.52218947, 1.97066381],\n",
    "[1.79129243, 1.74983003, 1.96028037, 1.85166831, 1.65450881],\n",
    "[1.18068344, 1.9587381 , 1.00656599, 1.93402165, 1.73514584]]]\n",
    "```\n",
    "Your *f* should be:\n",
    "```python\n",
    "[[[ 75.,  75.,  75.,  25.,  75.],\n",
    "[ 75.,  75.,  25.,  25.,  25.],\n",
    "[ 75.,  25.,  75.,  75.,  75.]],\n",
    "[[ 25.,  25.,  25.,  25., 100.],\n",
    "[ 75.,  75.,  75.,  75.,  75.],\n",
    "[ 25.,  75.,   0.,  75.,  75.]]]\n",
    "```"
   ]
  },
  {
   "cell_type": "code",
   "execution_count": null,
   "metadata": {},
   "outputs": [],
   "source": [
    "# your code here"
   ]
  },
  {
   "cell_type": "markdown",
   "metadata": {},
   "source": [
    "#### 18. Bonus question: instead of using numbers (i.e. 0, 25, 50, 75, and 100), use string values  (\"A\", \"B\", \"C\", \"D\", and \"E\") to label the array elements. For the example above, the expected result is:\n",
    "\n",
    "```python\n",
    "[[[ 'D',  'D',  'D',  'B',  'D'],\n",
    "[ 'D',  'D',  'B',  'B',  'B'],\n",
    "[ 'D',  'B',  'D',  'D',  'D']],\n",
    "[[ 'B',  'B',  'B',  'B',  'E'],\n",
    "[ 'D',  'D',  'D',  'D',  'D'],\n",
    "[ 'B',  'D',   'A',  'D', 'D']]]\n",
    "```\n",
    "**Note**: you don't have to use Numpy in this question."
   ]
  },
  {
   "cell_type": "code",
   "execution_count": null,
   "metadata": {},
   "outputs": [],
   "source": [
    "# your code here"
   ]
  }
 ],
 "metadata": {
  "kernelspec": {
   "display_name": "Python 3",
   "language": "python",
   "name": "python3"
  },
  "language_info": {
   "codemirror_mode": {
    "name": "ipython",
    "version": 3
   },
   "file_extension": ".py",
   "mimetype": "text/x-python",
   "name": "python",
   "nbconvert_exporter": "python",
   "pygments_lexer": "ipython3",
   "version": "3.8.5"
  }
 },
 "nbformat": 4,
 "nbformat_minor": 2
}
